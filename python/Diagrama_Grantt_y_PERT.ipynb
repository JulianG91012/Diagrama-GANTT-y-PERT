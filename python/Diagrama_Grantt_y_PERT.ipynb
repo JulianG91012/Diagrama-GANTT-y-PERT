{
  "nbformat": 4,
  "nbformat_minor": 0,
  "metadata": {
    "colab": {
      "provenance": [],
      "include_colab_link": true
    },
    "kernelspec": {
      "name": "python3",
      "display_name": "Python 3"
    },
    "language_info": {
      "name": "python"
    }
  },
  "cells": [
    {
      "cell_type": "markdown",
      "metadata": {
        "id": "view-in-github",
        "colab_type": "text"
      },
      "source": [
        "<a href=\"https://colab.research.google.com/github/JulianG91012/Diagrama-GANTT-y-PERT/blob/main/Diagrama_Grantt_y_PERT.ipynb\" target=\"_parent\"><img src=\"https://colab.research.google.com/assets/colab-badge.svg\" alt=\"Open In Colab\"/></a>"
      ]
    },
    {
      "cell_type": "markdown",
      "source": [
        "#**Diagramas de GRANTT y PERT**\n",
        "Por medio de este archivo podrás realizar diagramas de Grantt y de Pert para la gestión de Proyectos.\n",
        "---\n",
        "Autores:\n",
        "- Julian Esteban Gómez López - <juliangomez91012@gmail.com>\n",
        "- Johana Patricia Jaramillo Espinosa - <jarajoha517@gmail.com>\n",
        "\n"
      ],
      "metadata": {
        "id": "aRbhm_RKVnEW"
      }
    },
    {
      "cell_type": "code",
      "execution_count": null,
      "metadata": {
        "id": "k7WJcLVmVjCz"
      },
      "outputs": [],
      "source": [
        "import matplotlib.pyplot as plt\n",
        "import numpy as np\n",
        "import pandas as pd"
      ]
    },
    {
      "cell_type": "code",
      "source": [
        "\n",
        "class Task:\n",
        "  tasks = 0  \n",
        "  def __init__(self, name, s_date, total_days):\n",
        "    try:\n",
        "      Task.tasks += 1\n",
        "      self._name = name\n",
        "      self._id = Task.cant_tareas\n",
        "      self._s_date = s_date\n",
        "      self._total_days = total_days\n",
        "\n",
        "    except ValueError as e:\n",
        "      print(e)\n",
        "    \n",
        "  def show(self):\n",
        "    return {\"Nombre\": self.nombre, \"ID\": self.id}\n"
      ],
      "metadata": {
        "id": "Ld1722NsW7hH"
      },
      "execution_count": null,
      "outputs": []
    },
    {
      "cell_type": "code",
      "source": [
        "req = Task(\"Requerimientos\")\n",
        "req1 = Task(\"Si\")\n",
        "print(req.show())\n",
        "print(req1.show())"
      ],
      "metadata": {
        "colab": {
          "base_uri": "https://localhost:8080/"
        },
        "id": "XF-ld1IBaQzp",
        "outputId": "b55b1850-e93c-4a00-ddf8-1d56be46d8ce"
      },
      "execution_count": null,
      "outputs": [
        {
          "output_type": "stream",
          "name": "stdout",
          "text": [
            "{'Nombre': 'Requerimientos', 'ID': 1}\n",
            "{'Nombre': 'Si', 'ID': 2}\n"
          ]
        }
      ]
    },
    {
      "cell_type": "markdown",
      "source": [
        "## Graficación. \n",
        "Diagrama de Gantt"
      ],
      "metadata": {
        "id": "6mKKaQ0bg8bB"
      }
    },
    {
      "cell_type": "code",
      "source": [
        "#Leer los datos\n",
        "datos = pd.read.excel(\"archivodeexcel\")"
      ],
      "metadata": {
        "id": "kPrv1XNuhExE"
      },
      "execution_count": null,
      "outputs": []
    },
    {
      "cell_type": "code",
      "source": [],
      "metadata": {
        "id": "7qMEWPqoh79r"
      },
      "execution_count": null,
      "outputs": []
    }
  ]
}